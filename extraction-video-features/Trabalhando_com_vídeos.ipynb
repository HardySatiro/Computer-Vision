{
 "cells": [
  {
   "cell_type": "code",
   "execution_count": 1,
   "metadata": {
    "colab": {},
    "colab_type": "code",
    "id": "A-wrdeqwcB-G"
   },
   "outputs": [
    {
     "name": "stderr",
     "output_type": "stream",
     "text": [
      "/home/hardy/anaconda3/envs/ia/lib/python3.6/site-packages/IPython/utils/traitlets.py:5: UserWarning: IPython.utils.traitlets has moved to a top-level traitlets package.\n",
      "  warn(\"IPython.utils.traitlets has moved to a top-level traitlets package.\")\n"
     ]
    }
   ],
   "source": [
    "#Bibliotecas\n",
    "import cv2\n",
    "import numpy as np\n",
    "import statistics\n",
    "video = cv2.VideoCapture(\"formas-geometricas.mov\")\n",
    "while True: \n",
    "    ret, frame = video.read()\n",
    "    cv2.imshow('frame', frame)\n",
    "    if cv2.waitKey(1) & 0xFF == ord(\"q\"):\n",
    "        break"
   ]
  },
  {
   "cell_type": "markdown",
   "metadata": {
    "colab_type": "text",
    "id": "p3mbxM19cJZA"
   },
   "source": [
    "**Leitura de arquivo de vídeo**\n",
    "\n",
    "A função utilizada para fazer a leitura de um vídeo é VideoCapture, esta função possuí apenas um parâmetro:\n",
    "\n",
    "- Arquivo_de_video: O arquivo de vídeo que será utilizado no programa.\n",
    "\n",
    "Esta função retorna o objeto do vídeo.\n",
    "\n",
    "É possível ler o vídeo frame a frame utilizando o método \"read\", este comando retorna:\n",
    "\n",
    "- ret: True ou False se o frame foi corretamente lido ou não. É possível verificar o final do vídeo através deste valor.\n",
    "- frame: A imagem do frame.\n",
    "\n",
    "No exemplo a seguir são mostrados todos os frames "
   ]
  },
  {
   "cell_type": "code",
   "execution_count": 10,
   "metadata": {
    "colab": {},
    "colab_type": "code",
    "id": "dYLKYCnJf7R3",
    "scrolled": true
   },
   "outputs": [],
   "source": []
  },
  {
   "cell_type": "markdown",
   "metadata": {
    "colab_type": "text",
    "id": "nB5enzUIpoUA"
   },
   "source": [
    "**Capturando imagens a partir da câmera**\n",
    "\n",
    "Para capturar as imagens a partir da câmera do computador, basta colocar o parâmetro inteiro em VideoCapture, onde este valor identifica qual câmera esta conectada no computador. Por exemplo se apenas uma câmera estiver conectada no computador, esta será o valor 0. \n",
    "\n",
    "Um detalhe importante que esta plataforma (Google Colab) não consegue fazer uso da câmera, por isso para apresentar esta implementação será utilizado o Visual Code com o OpenCV local.\n",
    "\n",
    "\n",
    "\n",
    "\n",
    "\n",
    "\n"
   ]
  },
  {
   "cell_type": "code",
   "execution_count": 4,
   "metadata": {
    "colab": {},
    "colab_type": "code",
    "id": "yUYfvJ8MTIMn"
   },
   "outputs": [],
   "source": [
    "#Este programa deve ser executado no Visual Code utilizando Python e OpenCV\n",
    "\n",
    "import numpy as np\n",
    "import cv2\n",
    "from matplotlib import pyplot as plt\n",
    "\n",
    "cap = cv2.VideoCapture(0)\n",
    "\n",
    "while(True):\n",
    "    # Captura frame a frame\n",
    "    ret, frame = cap.read()\n",
    "\n",
    "    # Processamento\n",
    "    gray = cv2.cvtColor(frame, cv2.COLOR_BGR2GRAY)\n",
    "    resultado = cv2.Canny(gray, 50, 50)\n",
    "    flipVertical = cv2.flip(gray, 0)\n",
    "    flipHorizontal = cv2.flip(gray, 1)\n",
    "    flipAmbos = cv2.flip(gray, -1)\n",
    "\n",
    "    # Mostra a imagem\n",
    "    #cv2.imshow('frame',frame)\n",
    "    #cv2.imshow('frame',gray)\n",
    "    cv2.imshow('frame',resultado)\n",
    "    #cv2.imshow('frame',flipVertical)\n",
    "    #cv2.imshow('frame',flipHorizontal)\n",
    "    #cv2.imshow('frame',flipAmbos)\n",
    "    \n",
    "    if cv2.waitKey(1) & 0xFF == ord('q'):\n",
    "        break\n",
    "\n",
    "# When everything done, release the capture\n",
    "cap.release()\n",
    "cv2.destroyAllWindows()"
   ]
  },
  {
   "cell_type": "code",
   "execution_count": null,
   "metadata": {},
   "outputs": [],
   "source": []
  }
 ],
 "metadata": {
  "colab": {
   "collapsed_sections": [],
   "name": "Trabalhando_com_vídeos.ipynb",
   "provenance": []
  },
  "kernelspec": {
   "display_name": "Python 3",
   "language": "python",
   "name": "python3"
  },
  "language_info": {
   "codemirror_mode": {
    "name": "ipython",
    "version": 3
   },
   "file_extension": ".py",
   "mimetype": "text/x-python",
   "name": "python",
   "nbconvert_exporter": "python",
   "pygments_lexer": "ipython3",
   "version": "3.6.12"
  }
 },
 "nbformat": 4,
 "nbformat_minor": 4
}
